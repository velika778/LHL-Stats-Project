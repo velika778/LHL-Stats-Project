{
 "cells": [
  {
   "cell_type": "code",
   "execution_count": null,
   "metadata": {},
   "outputs": [],
   "source": [
    "# imports\n",
    "import os\n",
    "import requests\n",
    "from bs4 import BeautifulSoup\n",
    "import pandas as pd\n",
    "import json"
   ]
  },
  {
   "cell_type": "code",
   "execution_count": null,
   "metadata": {},
   "outputs": [],
   "source": [
    "df_berlin = pd.read_csv('berlin_nextbike_final.csv')\n",
    "df_berlin"
   ]
  },
  {
   "cell_type": "code",
   "execution_count": null,
   "metadata": {},
   "outputs": [],
   "source": [
    "df_berlin[['latitude','longitude']] = df_berlin[['latitude','longitude']].apply(lambda x:round(x,4))\n",
    "df_berlin.drop(columns='id')"
   ]
  },
  {
   "cell_type": "code",
   "execution_count": null,
   "metadata": {},
   "outputs": [],
   "source": [
    "location_df = pd.DataFrame()\n",
    "location_df['name'] = df_berlin['name']\n",
    "location_df['latitude'] = df_berlin['latitude']\n",
    "location_df['longitude'] = df_berlin['longitude']\n",
    "location_df['latlon'] = location_df['latitude'].astype(str) + \",\" + location_df['longitude'].astype(str)\n",
    "location_df"
   ]
  },
  {
   "cell_type": "markdown",
   "metadata": {},
   "source": [
    "# Foursquare"
   ]
  },
  {
   "cell_type": "markdown",
   "metadata": {},
   "source": [
    "Send a request to Foursquare with a small radius (1000m) for all the bike stations in your city of choice. "
   ]
  },
  {
   "cell_type": "code",
   "execution_count": null,
   "metadata": {},
   "outputs": [],
   "source": [
    "for idx, n in enumerate(location_df['name']):\n",
    "    latlon = location_df['latlon'][idx]\n",
    "    foursquare_url = f\"https://places-api.foursquare.com/places/search?ll={latlon}&radius=1000\"\n",
    "    foursquare_key = os.environ['foursquare']\n",
    "\n",
    "    headers = {\n",
    "    \"accept\": \"application/json\",\n",
    "    \"X-Places-Api-Version\": \"2025-06-17\",\n",
    "    \"authorization\": f\"Bearer {foursquare_key}\"\n",
    "    }\n",
    "\n",
    "    response = requests.get(foursquare_url, headers=headers)\n",
    "    foursquare_data = response.json()\n",
    "    #foursquare_df = pd.json_normalize(foursquare_data['results'])\n",
    "    with open(f'/foursquare_data/fs_data{idx}.json', 'w') as f:\n",
    "        json.dump(foursquare_data, f, ensure_ascii=False)\n"
   ]
  },
  {
   "cell_type": "code",
   "execution_count": null,
   "metadata": {},
   "outputs": [],
   "source": [
    "import glob\n",
    "file_paths = glob.glob('/foursquare_data/*.json')\n",
    "\n",
    "with open('output-file.json', 'w') as output_file:\n",
    "    for file_path in file_paths:\n",
    "        with open(file_path, 'r') as input_file:\n",
    "            output_file.write(input_file.read() + '\\n')"
   ]
  },
  {
   "cell_type": "code",
   "execution_count": null,
   "metadata": {},
   "outputs": [],
   "source": [
    "with open('output-file.json', 'r') as f:\n",
    "    data = [json.loads(line) for line in f]"
   ]
  },
  {
   "cell_type": "code",
   "execution_count": null,
   "metadata": {},
   "outputs": [],
   "source": [
    "results = pd.json_normalize(data, record_path='results')\n",
    "results.to_csv('results.csv')"
   ]
  },
  {
   "cell_type": "code",
   "execution_count": null,
   "metadata": {},
   "outputs": [],
   "source": [
    "results.columns"
   ]
  },
  {
   "cell_type": "code",
   "execution_count": null,
   "metadata": {},
   "outputs": [],
   "source": [
    "results['categories'] = results['categories'].apply(lambda lst: [d['name'] for d in lst])"
   ]
  },
  {
   "cell_type": "code",
   "execution_count": null,
   "metadata": {},
   "outputs": [],
   "source": [
    "results_exploded = results.explode('categories')\n",
    "results_exploded = results_exploded.rename(columns={'categories': 'category_name'})"
   ]
  },
  {
   "cell_type": "markdown",
   "metadata": {},
   "source": [
    "Parse through the response to get the POI (such as restaurants, bars, etc) details you want (ratings, name, location, etc)"
   ]
  },
  {
   "cell_type": "code",
   "execution_count": null,
   "metadata": {},
   "outputs": [],
   "source": [
    "results_exploded = results_exploded[results_exploded['category_name'].notnull()]"
   ]
  },
  {
   "cell_type": "code",
   "execution_count": null,
   "metadata": {},
   "outputs": [],
   "source": [
    "results_exploded = results_exploded[results_exploded['category_name'].str.contains(\"Restaurant|Bar|Cafe|Caf|Museum|Gallery|Monastery|Church|Retail|Brewery|Winery|Bakery|Pub|Wine|Beer|Coffee\")]"
   ]
  },
  {
   "cell_type": "code",
   "execution_count": null,
   "metadata": {},
   "outputs": [],
   "source": [
    "results_exploded"
   ]
  },
  {
   "cell_type": "markdown",
   "metadata": {},
   "source": [
    "Put your parsed results into a DataFrame"
   ]
  },
  {
   "cell_type": "code",
   "execution_count": null,
   "metadata": {},
   "outputs": [],
   "source": [
    "berlin_df = pd.DataFrame()\n",
    "berlin_df['fsq_place_id'] = results_exploded['fsq_place_id']\n",
    "berlin_df['name'] = results_exploded['name']\n",
    "berlin_df['category_name'] = results_exploded['category_name']\n",
    "berlin_df['address'] = results_exploded['location.address']\n",
    "berlin_df['postcode'] = results_exploded['location.postcode']\n",
    "berlin_df['latitude'] = results_exploded['latitude']\n",
    "berlin_df['longitude'] = results_exploded['longitude']\n",
    "berlin_df['distance'] = results_exploded['distance']\n",
    "berlin_df.to_csv('fsq_berlin_df.csv')"
   ]
  },
  {
   "cell_type": "markdown",
   "metadata": {},
   "source": [
    "# Yelp"
   ]
  },
  {
   "cell_type": "markdown",
   "metadata": {},
   "source": [
    "Send a request to Yelp with a small radius (1000m) for all the bike stations in your city of choice. "
   ]
  },
  {
   "cell_type": "code",
   "execution_count": null,
   "metadata": {},
   "outputs": [],
   "source": [
    "## I was unable to access the Yelp API so I didn't complete this part of the exercise."
   ]
  },
  {
   "cell_type": "markdown",
   "metadata": {},
   "source": [
    "Parse through the response to get the POI (such as restaurants, bars, etc) details you want (ratings, name, location, etc)"
   ]
  },
  {
   "cell_type": "code",
   "execution_count": null,
   "metadata": {},
   "outputs": [],
   "source": []
  },
  {
   "cell_type": "markdown",
   "metadata": {},
   "source": [
    "Put your parsed results into a DataFrame"
   ]
  },
  {
   "cell_type": "markdown",
   "metadata": {},
   "source": []
  },
  {
   "cell_type": "markdown",
   "metadata": {},
   "source": [
    "# Comparing Results"
   ]
  },
  {
   "cell_type": "markdown",
   "metadata": {},
   "source": [
    "Which API provided you with more complete data? Provide an explanation. "
   ]
  },
  {
   "cell_type": "markdown",
   "metadata": {},
   "source": []
  },
  {
   "cell_type": "markdown",
   "metadata": {},
   "source": [
    "Get the top 10 restaurants according to their rating"
   ]
  },
  {
   "cell_type": "code",
   "execution_count": null,
   "metadata": {},
   "outputs": [],
   "source": []
  }
 ],
 "metadata": {
  "kernelspec": {
   "display_name": "LHL-Env",
   "language": "python",
   "name": "lhl-env"
  },
  "language_info": {
   "codemirror_mode": {
    "name": "ipython",
    "version": 3
   },
   "file_extension": ".py",
   "mimetype": "text/x-python",
   "name": "python",
   "nbconvert_exporter": "python",
   "pygments_lexer": "ipython3",
   "version": "3.13.5"
  }
 },
 "nbformat": 4,
 "nbformat_minor": 4
}
