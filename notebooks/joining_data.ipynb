{
 "cells": [
  {
   "cell_type": "markdown",
   "metadata": {},
   "source": [
    "Join the data from Part 1 with the data from Part 2 to create a new dataframe."
   ]
  },
  {
   "cell_type": "code",
   "execution_count": 1,
   "metadata": {},
   "outputs": [],
   "source": [
    "# imports\n",
    "import pandas as pd\n",
    "import numpy as np\n",
    "import matplotlib.pyplot as plt"
   ]
  },
  {
   "cell_type": "code",
   "execution_count": 2,
   "metadata": {},
   "outputs": [],
   "source": [
    "citybikes_berlin_df = pd.read_csv('berlin_nextbike_final.csv') # citybikes data\n",
    "fsq_berlin_df = pd.read_csv('fsq_berlin_df.csv', index_col=0) # foursquare data"
   ]
  },
  {
   "cell_type": "code",
   "execution_count": 3,
   "metadata": {},
   "outputs": [],
   "source": [
    "def latlon_bucket(lat, lon, precision=2):\n",
    "    return f\"{round(lat, precision)}_{round(lon, precision)}\" # function to round lat and lon to 2 decimal places and concatenate lat/lon"
   ]
  },
  {
   "cell_type": "code",
   "execution_count": 4,
   "metadata": {},
   "outputs": [],
   "source": [
    "citybikes_berlin_df['latlon_bucket'] = citybikes_berlin_df.apply(lambda row: latlon_bucket(row['latitude'], row['longitude']), axis=1) # apply function\n",
    "fsq_berlin_df['latlon_bucket'] = fsq_berlin_df.apply(lambda row: latlon_bucket(row['latitude'], row['longitude']), axis=1) # apply function"
   ]
  },
  {
   "cell_type": "code",
   "execution_count": 5,
   "metadata": {},
   "outputs": [
    {
     "data": {
      "text/html": [
       "<div>\n",
       "<style scoped>\n",
       "    .dataframe tbody tr th:only-of-type {\n",
       "        vertical-align: middle;\n",
       "    }\n",
       "\n",
       "    .dataframe tbody tr th {\n",
       "        vertical-align: top;\n",
       "    }\n",
       "\n",
       "    .dataframe thead th {\n",
       "        text-align: right;\n",
       "    }\n",
       "</style>\n",
       "<table border=\"1\" class=\"dataframe\">\n",
       "  <thead>\n",
       "    <tr style=\"text-align: right;\">\n",
       "      <th></th>\n",
       "      <th>fsq_place_id</th>\n",
       "      <th>name_x</th>\n",
       "      <th>category_name</th>\n",
       "      <th>address</th>\n",
       "      <th>postcode</th>\n",
       "      <th>latitude_x</th>\n",
       "      <th>longitude_x</th>\n",
       "      <th>distance</th>\n",
       "      <th>latlon_bucket</th>\n",
       "      <th>id</th>\n",
       "      <th>name_y</th>\n",
       "      <th>latitude_y</th>\n",
       "      <th>longitude_y</th>\n",
       "      <th>free_bikes</th>\n",
       "      <th>empty_slots</th>\n",
       "      <th>total_bikes</th>\n",
       "    </tr>\n",
       "  </thead>\n",
       "  <tbody>\n",
       "    <tr>\n",
       "      <th>0</th>\n",
       "      <td>518b635e498eee9194015820</td>\n",
       "      <td>Café Bäckerei Sesam</td>\n",
       "      <td>Bakery</td>\n",
       "      <td>Puschkinallee 14 a</td>\n",
       "      <td>12435</td>\n",
       "      <td>52.492884</td>\n",
       "      <td>13.460402</td>\n",
       "      <td>16</td>\n",
       "      <td>52.49_13.46</td>\n",
       "      <td>0007f94b88fd0f810e3f5435363bb0de</td>\n",
       "      <td>virtuell - S Treptower Park (Puschkinallee/Els...</td>\n",
       "      <td>52.492780</td>\n",
       "      <td>13.460247</td>\n",
       "      <td>0.0</td>\n",
       "      <td>5.0</td>\n",
       "      <td>5.0</td>\n",
       "    </tr>\n",
       "    <tr>\n",
       "      <th>1</th>\n",
       "      <td>518b635e498eee9194015820</td>\n",
       "      <td>Café Bäckerei Sesam</td>\n",
       "      <td>Bakery</td>\n",
       "      <td>Puschkinallee 14 a</td>\n",
       "      <td>12435</td>\n",
       "      <td>52.492884</td>\n",
       "      <td>13.460402</td>\n",
       "      <td>16</td>\n",
       "      <td>52.49_13.46</td>\n",
       "      <td>0ddf8398e1d62624e1cc4676c00750c9</td>\n",
       "      <td>S Treptower Park</td>\n",
       "      <td>52.493897</td>\n",
       "      <td>13.461143</td>\n",
       "      <td>4.0</td>\n",
       "      <td>1.0</td>\n",
       "      <td>5.0</td>\n",
       "    </tr>\n",
       "    <tr>\n",
       "      <th>2</th>\n",
       "      <td>518b635e498eee9194015820</td>\n",
       "      <td>Café Bäckerei Sesam</td>\n",
       "      <td>Bakery</td>\n",
       "      <td>Puschkinallee 14 a</td>\n",
       "      <td>12435</td>\n",
       "      <td>52.492884</td>\n",
       "      <td>13.460402</td>\n",
       "      <td>16</td>\n",
       "      <td>52.49_13.46</td>\n",
       "      <td>3128d3673bd8fc8129da1f970ea0806a</td>\n",
       "      <td>Stuckstraße/Puderstraße</td>\n",
       "      <td>52.485274</td>\n",
       "      <td>13.463790</td>\n",
       "      <td>1.0</td>\n",
       "      <td>3.0</td>\n",
       "      <td>4.0</td>\n",
       "    </tr>\n",
       "    <tr>\n",
       "      <th>3</th>\n",
       "      <td>518b635e498eee9194015820</td>\n",
       "      <td>Café Bäckerei Sesam</td>\n",
       "      <td>Bakery</td>\n",
       "      <td>Puschkinallee 14 a</td>\n",
       "      <td>12435</td>\n",
       "      <td>52.492884</td>\n",
       "      <td>13.460402</td>\n",
       "      <td>16</td>\n",
       "      <td>52.49_13.46</td>\n",
       "      <td>333d266797e1fec0f332c5d18e456bba</td>\n",
       "      <td>Am Treptower Park/Herkomerstraße</td>\n",
       "      <td>52.486858</td>\n",
       "      <td>13.464621</td>\n",
       "      <td>2.0</td>\n",
       "      <td>2.0</td>\n",
       "      <td>4.0</td>\n",
       "    </tr>\n",
       "    <tr>\n",
       "      <th>4</th>\n",
       "      <td>518b635e498eee9194015820</td>\n",
       "      <td>Café Bäckerei Sesam</td>\n",
       "      <td>Bakery</td>\n",
       "      <td>Puschkinallee 14 a</td>\n",
       "      <td>12435</td>\n",
       "      <td>52.492884</td>\n",
       "      <td>13.460402</td>\n",
       "      <td>16</td>\n",
       "      <td>52.49_13.46</td>\n",
       "      <td>3937415839ec9985b06c6211e52360da</td>\n",
       "      <td>Park Center (Ost)</td>\n",
       "      <td>52.491460</td>\n",
       "      <td>13.457775</td>\n",
       "      <td>0.0</td>\n",
       "      <td>4.0</td>\n",
       "      <td>4.0</td>\n",
       "    </tr>\n",
       "    <tr>\n",
       "      <th>...</th>\n",
       "      <td>...</td>\n",
       "      <td>...</td>\n",
       "      <td>...</td>\n",
       "      <td>...</td>\n",
       "      <td>...</td>\n",
       "      <td>...</td>\n",
       "      <td>...</td>\n",
       "      <td>...</td>\n",
       "      <td>...</td>\n",
       "      <td>...</td>\n",
       "      <td>...</td>\n",
       "      <td>...</td>\n",
       "      <td>...</td>\n",
       "      <td>...</td>\n",
       "      <td>...</td>\n",
       "      <td>...</td>\n",
       "    </tr>\n",
       "    <tr>\n",
       "      <th>182545</th>\n",
       "      <td>4b280a86f964a520178e24e3</td>\n",
       "      <td>Haus der 100 Biere</td>\n",
       "      <td>Beer Bar</td>\n",
       "      <td>Kurfürstendamm 100</td>\n",
       "      <td>10709</td>\n",
       "      <td>52.498475</td>\n",
       "      <td>13.296616</td>\n",
       "      <td>271</td>\n",
       "      <td>52.5_13.3</td>\n",
       "      <td>8fb170d6c0735b4c9a921a2a640c29f3</td>\n",
       "      <td>Damaschkestraße/Hektorstraße</td>\n",
       "      <td>52.500918</td>\n",
       "      <td>13.297883</td>\n",
       "      <td>2.0</td>\n",
       "      <td>2.0</td>\n",
       "      <td>4.0</td>\n",
       "    </tr>\n",
       "    <tr>\n",
       "      <th>182546</th>\n",
       "      <td>4b280a86f964a520178e24e3</td>\n",
       "      <td>Haus der 100 Biere</td>\n",
       "      <td>Beer Bar</td>\n",
       "      <td>Kurfürstendamm 100</td>\n",
       "      <td>10709</td>\n",
       "      <td>52.498475</td>\n",
       "      <td>13.296616</td>\n",
       "      <td>271</td>\n",
       "      <td>52.5_13.3</td>\n",
       "      <td>90260eabd16264e2f4f130e019142ac8</td>\n",
       "      <td>Sybelstraße/Dahlmannstraße</td>\n",
       "      <td>52.501902</td>\n",
       "      <td>13.303993</td>\n",
       "      <td>0.0</td>\n",
       "      <td>4.0</td>\n",
       "      <td>4.0</td>\n",
       "    </tr>\n",
       "    <tr>\n",
       "      <th>182547</th>\n",
       "      <td>4b280a86f964a520178e24e3</td>\n",
       "      <td>Haus der 100 Biere</td>\n",
       "      <td>Beer Bar</td>\n",
       "      <td>Kurfürstendamm 100</td>\n",
       "      <td>10709</td>\n",
       "      <td>52.498475</td>\n",
       "      <td>13.296616</td>\n",
       "      <td>271</td>\n",
       "      <td>52.5_13.3</td>\n",
       "      <td>98fa65511e9c931d81c7347c55872e00</td>\n",
       "      <td>Heilbronner Straße/Kracauerplatz</td>\n",
       "      <td>52.502115</td>\n",
       "      <td>13.296024</td>\n",
       "      <td>0.0</td>\n",
       "      <td>4.0</td>\n",
       "      <td>4.0</td>\n",
       "    </tr>\n",
       "    <tr>\n",
       "      <th>182548</th>\n",
       "      <td>4b280a86f964a520178e24e3</td>\n",
       "      <td>Haus der 100 Biere</td>\n",
       "      <td>Beer Bar</td>\n",
       "      <td>Kurfürstendamm 100</td>\n",
       "      <td>10709</td>\n",
       "      <td>52.498475</td>\n",
       "      <td>13.296616</td>\n",
       "      <td>271</td>\n",
       "      <td>52.5_13.3</td>\n",
       "      <td>9f66c8327841939192e7b4691d3b8847</td>\n",
       "      <td>Rönnestraße/Holtzendorffstraße</td>\n",
       "      <td>52.503324</td>\n",
       "      <td>13.295326</td>\n",
       "      <td>1.0</td>\n",
       "      <td>3.0</td>\n",
       "      <td>4.0</td>\n",
       "    </tr>\n",
       "    <tr>\n",
       "      <th>182549</th>\n",
       "      <td>4b280a86f964a520178e24e3</td>\n",
       "      <td>Haus der 100 Biere</td>\n",
       "      <td>Beer Bar</td>\n",
       "      <td>Kurfürstendamm 100</td>\n",
       "      <td>10709</td>\n",
       "      <td>52.498475</td>\n",
       "      <td>13.296616</td>\n",
       "      <td>271</td>\n",
       "      <td>52.5_13.3</td>\n",
       "      <td>b35b2ab0a41053e60d5823f3e8583738</td>\n",
       "      <td>Gervinusstraße/Droysenstraße</td>\n",
       "      <td>52.503283</td>\n",
       "      <td>13.300516</td>\n",
       "      <td>0.0</td>\n",
       "      <td>4.0</td>\n",
       "      <td>4.0</td>\n",
       "    </tr>\n",
       "  </tbody>\n",
       "</table>\n",
       "<p>182550 rows × 16 columns</p>\n",
       "</div>"
      ],
      "text/plain": [
       "                    fsq_place_id               name_x category_name  \\\n",
       "0       518b635e498eee9194015820  Café Bäckerei Sesam        Bakery   \n",
       "1       518b635e498eee9194015820  Café Bäckerei Sesam        Bakery   \n",
       "2       518b635e498eee9194015820  Café Bäckerei Sesam        Bakery   \n",
       "3       518b635e498eee9194015820  Café Bäckerei Sesam        Bakery   \n",
       "4       518b635e498eee9194015820  Café Bäckerei Sesam        Bakery   \n",
       "...                          ...                  ...           ...   \n",
       "182545  4b280a86f964a520178e24e3   Haus der 100 Biere      Beer Bar   \n",
       "182546  4b280a86f964a520178e24e3   Haus der 100 Biere      Beer Bar   \n",
       "182547  4b280a86f964a520178e24e3   Haus der 100 Biere      Beer Bar   \n",
       "182548  4b280a86f964a520178e24e3   Haus der 100 Biere      Beer Bar   \n",
       "182549  4b280a86f964a520178e24e3   Haus der 100 Biere      Beer Bar   \n",
       "\n",
       "                   address postcode  latitude_x  longitude_x  distance  \\\n",
       "0       Puschkinallee 14 a    12435   52.492884    13.460402        16   \n",
       "1       Puschkinallee 14 a    12435   52.492884    13.460402        16   \n",
       "2       Puschkinallee 14 a    12435   52.492884    13.460402        16   \n",
       "3       Puschkinallee 14 a    12435   52.492884    13.460402        16   \n",
       "4       Puschkinallee 14 a    12435   52.492884    13.460402        16   \n",
       "...                    ...      ...         ...          ...       ...   \n",
       "182545  Kurfürstendamm 100    10709   52.498475    13.296616       271   \n",
       "182546  Kurfürstendamm 100    10709   52.498475    13.296616       271   \n",
       "182547  Kurfürstendamm 100    10709   52.498475    13.296616       271   \n",
       "182548  Kurfürstendamm 100    10709   52.498475    13.296616       271   \n",
       "182549  Kurfürstendamm 100    10709   52.498475    13.296616       271   \n",
       "\n",
       "       latlon_bucket                                id  \\\n",
       "0        52.49_13.46  0007f94b88fd0f810e3f5435363bb0de   \n",
       "1        52.49_13.46  0ddf8398e1d62624e1cc4676c00750c9   \n",
       "2        52.49_13.46  3128d3673bd8fc8129da1f970ea0806a   \n",
       "3        52.49_13.46  333d266797e1fec0f332c5d18e456bba   \n",
       "4        52.49_13.46  3937415839ec9985b06c6211e52360da   \n",
       "...              ...                               ...   \n",
       "182545     52.5_13.3  8fb170d6c0735b4c9a921a2a640c29f3   \n",
       "182546     52.5_13.3  90260eabd16264e2f4f130e019142ac8   \n",
       "182547     52.5_13.3  98fa65511e9c931d81c7347c55872e00   \n",
       "182548     52.5_13.3  9f66c8327841939192e7b4691d3b8847   \n",
       "182549     52.5_13.3  b35b2ab0a41053e60d5823f3e8583738   \n",
       "\n",
       "                                                   name_y  latitude_y  \\\n",
       "0       virtuell - S Treptower Park (Puschkinallee/Els...   52.492780   \n",
       "1                                        S Treptower Park   52.493897   \n",
       "2                                 Stuckstraße/Puderstraße   52.485274   \n",
       "3                        Am Treptower Park/Herkomerstraße   52.486858   \n",
       "4                                       Park Center (Ost)   52.491460   \n",
       "...                                                   ...         ...   \n",
       "182545                       Damaschkestraße/Hektorstraße   52.500918   \n",
       "182546                         Sybelstraße/Dahlmannstraße   52.501902   \n",
       "182547                   Heilbronner Straße/Kracauerplatz   52.502115   \n",
       "182548                     Rönnestraße/Holtzendorffstraße   52.503324   \n",
       "182549                       Gervinusstraße/Droysenstraße   52.503283   \n",
       "\n",
       "        longitude_y  free_bikes  empty_slots  total_bikes  \n",
       "0         13.460247         0.0          5.0          5.0  \n",
       "1         13.461143         4.0          1.0          5.0  \n",
       "2         13.463790         1.0          3.0          4.0  \n",
       "3         13.464621         2.0          2.0          4.0  \n",
       "4         13.457775         0.0          4.0          4.0  \n",
       "...             ...         ...          ...          ...  \n",
       "182545    13.297883         2.0          2.0          4.0  \n",
       "182546    13.303993         0.0          4.0          4.0  \n",
       "182547    13.296024         0.0          4.0          4.0  \n",
       "182548    13.295326         1.0          3.0          4.0  \n",
       "182549    13.300516         0.0          4.0          4.0  \n",
       "\n",
       "[182550 rows x 16 columns]"
      ]
     },
     "execution_count": 5,
     "metadata": {},
     "output_type": "execute_result"
    }
   ],
   "source": [
    "berlin_merged_df = pd.merge(fsq_berlin_df, citybikes_berlin_df, how='left', on='latlon_bucket')\n",
    "berlin_merged_df"
   ]
  },
  {
   "cell_type": "code",
   "execution_count": 6,
   "metadata": {},
   "outputs": [
    {
     "data": {
      "text/html": [
       "<div>\n",
       "<style scoped>\n",
       "    .dataframe tbody tr th:only-of-type {\n",
       "        vertical-align: middle;\n",
       "    }\n",
       "\n",
       "    .dataframe tbody tr th {\n",
       "        vertical-align: top;\n",
       "    }\n",
       "\n",
       "    .dataframe thead th {\n",
       "        text-align: right;\n",
       "    }\n",
       "</style>\n",
       "<table border=\"1\" class=\"dataframe\">\n",
       "  <thead>\n",
       "    <tr style=\"text-align: right;\">\n",
       "      <th></th>\n",
       "      <th>Total</th>\n",
       "      <th>Percent</th>\n",
       "    </tr>\n",
       "  </thead>\n",
       "  <tbody>\n",
       "    <tr>\n",
       "      <th>postcode</th>\n",
       "      <td>14298</td>\n",
       "      <td>0.078324</td>\n",
       "    </tr>\n",
       "    <tr>\n",
       "      <th>address</th>\n",
       "      <td>5606</td>\n",
       "      <td>0.030709</td>\n",
       "    </tr>\n",
       "    <tr>\n",
       "      <th>free_bikes</th>\n",
       "      <td>137</td>\n",
       "      <td>0.000750</td>\n",
       "    </tr>\n",
       "    <tr>\n",
       "      <th>empty_slots</th>\n",
       "      <td>137</td>\n",
       "      <td>0.000750</td>\n",
       "    </tr>\n",
       "    <tr>\n",
       "      <th>longitude_y</th>\n",
       "      <td>137</td>\n",
       "      <td>0.000750</td>\n",
       "    </tr>\n",
       "    <tr>\n",
       "      <th>latitude_y</th>\n",
       "      <td>137</td>\n",
       "      <td>0.000750</td>\n",
       "    </tr>\n",
       "    <tr>\n",
       "      <th>name_y</th>\n",
       "      <td>137</td>\n",
       "      <td>0.000750</td>\n",
       "    </tr>\n",
       "    <tr>\n",
       "      <th>id</th>\n",
       "      <td>137</td>\n",
       "      <td>0.000750</td>\n",
       "    </tr>\n",
       "    <tr>\n",
       "      <th>total_bikes</th>\n",
       "      <td>137</td>\n",
       "      <td>0.000750</td>\n",
       "    </tr>\n",
       "    <tr>\n",
       "      <th>longitude_x</th>\n",
       "      <td>0</td>\n",
       "      <td>0.000000</td>\n",
       "    </tr>\n",
       "    <tr>\n",
       "      <th>distance</th>\n",
       "      <td>0</td>\n",
       "      <td>0.000000</td>\n",
       "    </tr>\n",
       "    <tr>\n",
       "      <th>category_name</th>\n",
       "      <td>0</td>\n",
       "      <td>0.000000</td>\n",
       "    </tr>\n",
       "    <tr>\n",
       "      <th>fsq_place_id</th>\n",
       "      <td>0</td>\n",
       "      <td>0.000000</td>\n",
       "    </tr>\n",
       "    <tr>\n",
       "      <th>name_x</th>\n",
       "      <td>0</td>\n",
       "      <td>0.000000</td>\n",
       "    </tr>\n",
       "    <tr>\n",
       "      <th>latitude_x</th>\n",
       "      <td>0</td>\n",
       "      <td>0.000000</td>\n",
       "    </tr>\n",
       "    <tr>\n",
       "      <th>latlon_bucket</th>\n",
       "      <td>0</td>\n",
       "      <td>0.000000</td>\n",
       "    </tr>\n",
       "  </tbody>\n",
       "</table>\n",
       "</div>"
      ],
      "text/plain": [
       "               Total   Percent\n",
       "postcode       14298  0.078324\n",
       "address         5606  0.030709\n",
       "free_bikes       137  0.000750\n",
       "empty_slots      137  0.000750\n",
       "longitude_y      137  0.000750\n",
       "latitude_y       137  0.000750\n",
       "name_y           137  0.000750\n",
       "id               137  0.000750\n",
       "total_bikes      137  0.000750\n",
       "longitude_x        0  0.000000\n",
       "distance           0  0.000000\n",
       "category_name      0  0.000000\n",
       "fsq_place_id       0  0.000000\n",
       "name_x             0  0.000000\n",
       "latitude_x         0  0.000000\n",
       "latlon_bucket      0  0.000000"
      ]
     },
     "execution_count": 6,
     "metadata": {},
     "output_type": "execute_result"
    }
   ],
   "source": [
    "# check for missing values\n",
    "\n",
    "total = berlin_merged_df.isnull().sum().sort_values(ascending=False)\n",
    "percent = (berlin_merged_df.isnull().sum()/berlin_merged_df.isnull().count()).sort_values(ascending=False)\n",
    "missing_data = pd.concat([total, percent], axis=1, keys=['Total', 'Percent'])\n",
    "missing_data.head(20)"
   ]
  },
  {
   "cell_type": "code",
   "execution_count": 7,
   "metadata": {},
   "outputs": [],
   "source": [
    "# drop rows where venue details weren't available\n",
    "\n",
    "berlin_merged_df = berlin_merged_df[berlin_merged_df['postcode'].notnull()]\n",
    "berlin_merged_df = berlin_merged_df[berlin_merged_df['address'].notnull()]\n",
    "berlin_merged_df = berlin_merged_df[berlin_merged_df['name_y'].notnull()]"
   ]
  },
  {
   "cell_type": "code",
   "execution_count": 8,
   "metadata": {},
   "outputs": [
    {
     "data": {
      "text/html": [
       "<div>\n",
       "<style scoped>\n",
       "    .dataframe tbody tr th:only-of-type {\n",
       "        vertical-align: middle;\n",
       "    }\n",
       "\n",
       "    .dataframe tbody tr th {\n",
       "        vertical-align: top;\n",
       "    }\n",
       "\n",
       "    .dataframe thead th {\n",
       "        text-align: right;\n",
       "    }\n",
       "</style>\n",
       "<table border=\"1\" class=\"dataframe\">\n",
       "  <thead>\n",
       "    <tr style=\"text-align: right;\">\n",
       "      <th></th>\n",
       "      <th>Total</th>\n",
       "      <th>Percent</th>\n",
       "    </tr>\n",
       "  </thead>\n",
       "  <tbody>\n",
       "    <tr>\n",
       "      <th>fsq_place_id</th>\n",
       "      <td>0</td>\n",
       "      <td>0.0</td>\n",
       "    </tr>\n",
       "    <tr>\n",
       "      <th>name_x</th>\n",
       "      <td>0</td>\n",
       "      <td>0.0</td>\n",
       "    </tr>\n",
       "    <tr>\n",
       "      <th>category_name</th>\n",
       "      <td>0</td>\n",
       "      <td>0.0</td>\n",
       "    </tr>\n",
       "    <tr>\n",
       "      <th>address</th>\n",
       "      <td>0</td>\n",
       "      <td>0.0</td>\n",
       "    </tr>\n",
       "    <tr>\n",
       "      <th>postcode</th>\n",
       "      <td>0</td>\n",
       "      <td>0.0</td>\n",
       "    </tr>\n",
       "    <tr>\n",
       "      <th>latitude_x</th>\n",
       "      <td>0</td>\n",
       "      <td>0.0</td>\n",
       "    </tr>\n",
       "    <tr>\n",
       "      <th>longitude_x</th>\n",
       "      <td>0</td>\n",
       "      <td>0.0</td>\n",
       "    </tr>\n",
       "    <tr>\n",
       "      <th>distance</th>\n",
       "      <td>0</td>\n",
       "      <td>0.0</td>\n",
       "    </tr>\n",
       "    <tr>\n",
       "      <th>latlon_bucket</th>\n",
       "      <td>0</td>\n",
       "      <td>0.0</td>\n",
       "    </tr>\n",
       "    <tr>\n",
       "      <th>id</th>\n",
       "      <td>0</td>\n",
       "      <td>0.0</td>\n",
       "    </tr>\n",
       "    <tr>\n",
       "      <th>name_y</th>\n",
       "      <td>0</td>\n",
       "      <td>0.0</td>\n",
       "    </tr>\n",
       "    <tr>\n",
       "      <th>latitude_y</th>\n",
       "      <td>0</td>\n",
       "      <td>0.0</td>\n",
       "    </tr>\n",
       "    <tr>\n",
       "      <th>longitude_y</th>\n",
       "      <td>0</td>\n",
       "      <td>0.0</td>\n",
       "    </tr>\n",
       "    <tr>\n",
       "      <th>free_bikes</th>\n",
       "      <td>0</td>\n",
       "      <td>0.0</td>\n",
       "    </tr>\n",
       "    <tr>\n",
       "      <th>empty_slots</th>\n",
       "      <td>0</td>\n",
       "      <td>0.0</td>\n",
       "    </tr>\n",
       "    <tr>\n",
       "      <th>total_bikes</th>\n",
       "      <td>0</td>\n",
       "      <td>0.0</td>\n",
       "    </tr>\n",
       "  </tbody>\n",
       "</table>\n",
       "</div>"
      ],
      "text/plain": [
       "               Total  Percent\n",
       "fsq_place_id       0      0.0\n",
       "name_x             0      0.0\n",
       "category_name      0      0.0\n",
       "address            0      0.0\n",
       "postcode           0      0.0\n",
       "latitude_x         0      0.0\n",
       "longitude_x        0      0.0\n",
       "distance           0      0.0\n",
       "latlon_bucket      0      0.0\n",
       "id                 0      0.0\n",
       "name_y             0      0.0\n",
       "latitude_y         0      0.0\n",
       "longitude_y        0      0.0\n",
       "free_bikes         0      0.0\n",
       "empty_slots        0      0.0\n",
       "total_bikes        0      0.0"
      ]
     },
     "execution_count": 8,
     "metadata": {},
     "output_type": "execute_result"
    }
   ],
   "source": [
    "#final check for missing values \n",
    "\n",
    "total = berlin_merged_df.isnull().sum().sort_values(ascending=False)\n",
    "percent = (berlin_merged_df.isnull().sum()/berlin_merged_df.isnull().count()).sort_values(ascending=False)\n",
    "missing_data = pd.concat([total, percent], axis=1, keys=['Total', 'Percent'])\n",
    "missing_data.head(20)"
   ]
  },
  {
   "cell_type": "code",
   "execution_count": 9,
   "metadata": {},
   "outputs": [],
   "source": [
    "berlin_merged_df = berlin_merged_df.drop(columns=['fsq_place_id','id'])"
   ]
  },
  {
   "cell_type": "code",
   "execution_count": 10,
   "metadata": {},
   "outputs": [],
   "source": [
    "# rename columns for ease of reading\n",
    "\n",
    "berlin_merged_df.columns = [ 'venue_name','venue_category_name','venue_address','venue_postcode','venue_latitude','venue_longitude','distance_to_bike','latlon_bucket','bike_site_name','bike_site_latitude','bike_site_longitude','free_bikes','empty_slots','total_bikes']"
   ]
  },
  {
   "cell_type": "code",
   "execution_count": 11,
   "metadata": {},
   "outputs": [],
   "source": [
    "berlin_merged_df.to_csv('berlin_merged_final.csv', index = False)"
   ]
  },
  {
   "cell_type": "markdown",
   "metadata": {},
   "source": [
    "Provide a visualization that you used as part of your EDA process. Explain the initial pattern or relationship you discoved through this visualization. "
   ]
  },
  {
   "cell_type": "code",
   "execution_count": 12,
   "metadata": {},
   "outputs": [
    {
     "data": {
      "image/png": "[encoded data removed]",
      "text/plain": [
       "<Figure size 640x480 with 1 Axes>"
      ]
     },
     "metadata": {},
     "output_type": "display_data"
    }
   ],
   "source": [
    "# validate no distances are greater than 1000m or less than 0\n",
    "\n",
    "y = berlin_merged_df['distance_to_bike']\n",
    "plt.hist(y, bins=20)\n",
    "plt.show()"
   ]
  },
  {
   "cell_type": "code",
   "execution_count": 13,
   "metadata": {},
   "outputs": [
    {
     "data": {
      "image/png": "[encoded data removed]",
      "text/plain": [
       "<Figure size 640x480 with 1 Axes>"
      ]
     },
     "metadata": {},
     "output_type": "display_data"
    }
   ],
   "source": [
    "# validate outliers in lat/lon which would imply data includes values outside of Berlin\n",
    "\n",
    "lat_boxplot = berlin_merged_df.boxplot(column=['venue_latitude','bike_site_latitude'])\n"
   ]
  },
  {
   "cell_type": "code",
   "execution_count": 14,
   "metadata": {},
   "outputs": [
    {
     "data": {
      "image/png": "[encoded data removed]",
      "text/plain": [
       "<Figure size 640x480 with 1 Axes>"
      ]
     },
     "metadata": {},
     "output_type": "display_data"
    }
   ],
   "source": [
    "lon_boxplot = berlin_merged_df.boxplot(column=['venue_longitude','bike_site_longitude'])"
   ]
  },
  {
   "cell_type": "markdown",
   "metadata": {},
   "source": [
    "# Database"
   ]
  },
  {
   "cell_type": "markdown",
   "metadata": {},
   "source": [
    "Put all your results in an SQLite3 database (remember, SQLite stores its databases as files in your local machine - make sure to create your database in your project's data/ directory!)"
   ]
  },
  {
   "cell_type": "code",
   "execution_count": 15,
   "metadata": {},
   "outputs": [],
   "source": [
    "import sqlite3\n",
    "from sqlite3 import Error\n",
    "\n",
    "def create_connection(path):\n",
    "    connection = None\n",
    "    try:\n",
    "        connection = sqlite3.connect(path)\n",
    "        print(\"Connection to SQLite DB successful\")\n",
    "    except Error as e:\n",
    "        print(f\"The error '{e}' occurred\")\n",
    "\n",
    "    return connection"
   ]
  },
  {
   "cell_type": "code",
   "execution_count": 16,
   "metadata": {},
   "outputs": [
    {
     "name": "stdout",
     "output_type": "stream",
     "text": [
      "Connection to SQLite DB successful\n"
     ]
    }
   ],
   "source": [
    "connection = create_connection(\"C:/Users/vlouc/OneDrive/Documents/GitHub/LHL-Stats-Project/data/sm_app.sqlite\")"
   ]
  },
  {
   "cell_type": "code",
   "execution_count": 17,
   "metadata": {},
   "outputs": [],
   "source": [
    "def execute_query(connection, query):\n",
    "    cursor = connection.cursor()\n",
    "    try:\n",
    "        cursor.execute(query)\n",
    "        connection.commit()\n",
    "        print(\"Query executed successfully\")\n",
    "    except Error as e:\n",
    "        print(f\"The error '{e}' occurred\")\n"
   ]
  },
  {
   "cell_type": "code",
   "execution_count": 18,
   "metadata": {},
   "outputs": [],
   "source": [
    "create_fsq_table = \"\"\"\n",
    "CREATE TABLE IF NOT EXISTS berlin_fsq_data (\n",
    "  fsq_place_id TEXT,\n",
    "  name TEXT,\n",
    "  category_name TEXT,\n",
    "  address TEXT,\n",
    "  postcode TEXT,\n",
    "  latitude INTEGER,\n",
    "  longitude INTEGER,\n",
    "  distance INTEGER,\n",
    "  FOREIGN KEY (latlon_bucket) REFERENCES berlin_citybikes_data (latlon_bucket)\n",
    "\n",
    ");\n",
    "\"\"\""
   ]
  },
  {
   "cell_type": "code",
   "execution_count": 19,
   "metadata": {},
   "outputs": [],
   "source": [
    "create_citybikes_table = \"\"\"\n",
    "CREATE TABLE IF NOT EXISTS berlin_citybikes_data (\n",
    "id TEXT,\n",
    "name TEXT,\n",
    "latitude INTEGER,\n",
    "longitude INTEGER,\n",
    "free_bikes INTEGER,\n",
    "empty_slots INTEGER,\n",
    "total_bikes INTEGER,\n",
    "latlon_bucket INTEGER PRIMARY KEY\n",
    ");\n",
    "\"\"\""
   ]
  },
  {
   "cell_type": "code",
   "execution_count": 20,
   "metadata": {},
   "outputs": [
    {
     "name": "stdout",
     "output_type": "stream",
     "text": [
      "Query executed successfully\n"
     ]
    }
   ],
   "source": [
    "execute_query(connection, create_fsq_table)"
   ]
  },
  {
   "cell_type": "code",
   "execution_count": 21,
   "metadata": {},
   "outputs": [
    {
     "name": "stdout",
     "output_type": "stream",
     "text": [
      "Query executed successfully\n"
     ]
    }
   ],
   "source": [
    "execute_query(connection, create_citybikes_table)"
   ]
  },
  {
   "cell_type": "code",
   "execution_count": 22,
   "metadata": {},
   "outputs": [
    {
     "data": {
      "text/plain": [
       "16758"
      ]
     },
     "execution_count": 22,
     "metadata": {},
     "output_type": "execute_result"
    }
   ],
   "source": [
    "fsq_berlin_df.to_sql('berlin_fsq_data', connection, if_exists='replace', index=False) # load fsq df to sql"
   ]
  },
  {
   "cell_type": "code",
   "execution_count": 23,
   "metadata": {},
   "outputs": [
    {
     "data": {
      "text/plain": [
       "2715"
      ]
     },
     "execution_count": 23,
     "metadata": {},
     "output_type": "execute_result"
    }
   ],
   "source": [
    "citybikes_berlin_df.to_sql('berlin_citybikes_data', connection, if_exists='replace', index=False) # load citybikes df to sql"
   ]
  },
  {
   "cell_type": "markdown",
   "metadata": {},
   "source": [
    "Look at the data before and after the join to validate your data."
   ]
  },
  {
   "cell_type": "code",
   "execution_count": 24,
   "metadata": {},
   "outputs": [
    {
     "data": {
      "text/plain": [
       "True"
      ]
     },
     "execution_count": 24,
     "metadata": {},
     "output_type": "execute_result"
    }
   ],
   "source": [
    "select_all_fsq = \"SELECT * from berlin_fsq_data\"\n",
    "sqlite_test_fsq = pd.read_sql(select_all_fsq, connection)\n",
    "sqlite_test_fsq.shape == fsq_berlin_df.shape #confirm shape of sql extract matches original df shape"
   ]
  },
  {
   "cell_type": "code",
   "execution_count": 25,
   "metadata": {},
   "outputs": [
    {
     "data": {
      "text/plain": [
       "True"
      ]
     },
     "execution_count": 25,
     "metadata": {},
     "output_type": "execute_result"
    }
   ],
   "source": [
    "select_all_citybikes = \"SELECT * from berlin_citybikes_data\"\n",
    "sqlite_test_citybikes = pd.read_sql(select_all_citybikes, connection)\n",
    "sqlite_test_citybikes.shape == citybikes_berlin_df.shape #confirm shape of sql extract matches original df shape"
   ]
  },
  {
   "cell_type": "code",
   "execution_count": 26,
   "metadata": {},
   "outputs": [],
   "source": [
    "create_merged_table = \"SELECT * from berlin_fsq_data fsq JOIN berlin_citybikes_data cb WHERE fsq.latlon_bucket = cb.latlon_bucket\""
   ]
  },
  {
   "cell_type": "code",
   "execution_count": 27,
   "metadata": {},
   "outputs": [
    {
     "data": {
      "text/plain": [
       "(182413, 17)"
      ]
     },
     "execution_count": 27,
     "metadata": {},
     "output_type": "execute_result"
    }
   ],
   "source": [
    "pd.read_sql(create_merged_table, connection).shape # matches shape of original berlin_merged_df +1 column because of duplicated latlon_bucket field"
   ]
  }
 ],
 "metadata": {
  "kernelspec": {
   "display_name": "LHL-Env",
   "language": "python",
   "name": "lhl-env"
  },
  "language_info": {
   "codemirror_mode": {
    "name": "ipython",
    "version": 3
   },
   "file_extension": ".py",
   "mimetype": "text/x-python",
   "name": "python",
   "nbconvert_exporter": "python",
   "pygments_lexer": "ipython3",
   "version": "3.13.5"
  }
 },
 "nbformat": 4,
 "nbformat_minor": 4
}
