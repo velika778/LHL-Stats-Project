{
 "cells": [
  {
   "cell_type": "markdown",
   "metadata": {},
   "source": [
    "Build a regression model."
   ]
  },
  {
   "cell_type": "code",
   "execution_count": null,
   "metadata": {},
   "outputs": [],
   "source": [
    "# imports\n",
    "import pandas as pd\n",
    "import statsmodels.api as sm"
   ]
  },
  {
   "cell_type": "code",
   "execution_count": null,
   "metadata": {},
   "outputs": [],
   "source": [
    "berlin_df = pd.read_csv('berlin_merged_final.csv')\n",
    "berlin_df"
   ]
  },
  {
   "cell_type": "code",
   "execution_count": null,
   "metadata": {},
   "outputs": [],
   "source": [
    "def f(row): # group categories by meta categories\n",
    "    if \"Restaurant\" in row['venue_category_name']:\n",
    "        val = \"Restaurant\"\n",
    "    elif \"Cafe\" in row['venue_category_name'] or \"Bakery\" in row['venue_category_name'] or \"Caf\" in row['venue_category_name'] or \"Coffee\" in row['venue_category_name']:\n",
    "        val = \"Cafes\"\n",
    "    elif \"Retail\" in row['venue_category_name']:\n",
    "        val = \"Retail\"\n",
    "    elif \"Museum\" in row['venue_category_name'] or \"Gallery\" in row['venue_category_name']:\n",
    "        val = \"Museums and Galleries\"\n",
    "    elif \"Church\" in row['venue_category_name'] or \"Monastery\" in row['venue_category_name']:\n",
    "        val = \"Religious Buildings\"\n",
    "    elif \"Bar\" in row['venue_category_name'] or \"Pub\" in row['venue_category_name'] or \"Wine\" in row['venue_category_name'] or \"Beer\" in row['venue_category_name']:\n",
    "        val = \"Bars\"\n",
    "    elif \"Winery\" in row['venue_category_name'] or \"Brewery\" in row['venue_category_name'] or \"Distillery\" in row['venue_category_name']:\n",
    "        val = \"Alcohol Manucturing\"\n",
    "    else:\n",
    "        val = \"N/A\"\n",
    "    return val"
   ]
  },
  {
   "cell_type": "code",
   "execution_count": null,
   "metadata": {},
   "outputs": [],
   "source": [
    "berlin_df['category_group'] = berlin_df.apply(f, axis=1)"
   ]
  },
  {
   "cell_type": "code",
   "execution_count": null,
   "metadata": {},
   "outputs": [],
   "source": [
    "berlin_df"
   ]
  },
  {
   "cell_type": "code",
   "execution_count": null,
   "metadata": {},
   "outputs": [],
   "source": [
    "berlin_pivot = pd.pivot_table(berlin_df, index = 'bike_site_name',\n",
    "                              columns = 'category_group',\n",
    "                              values = ['venue_name', 'total_bikes'],\n",
    "                              aggfunc={'venue_name': 'nunique', 'total_bikes': 'mean'})"
   ]
  },
  {
   "cell_type": "code",
   "execution_count": null,
   "metadata": {},
   "outputs": [],
   "source": [
    "berlin_pivot.columns.droplevel(0)"
   ]
  },
  {
   "cell_type": "code",
   "execution_count": null,
   "metadata": {},
   "outputs": [],
   "source": [
    "berlin_pivot.columns = ['mean_bikes_Alcohol_Manucturing',\n",
    "'mean_bikes_Bars',\n",
    "'mean_bikes_Cafes',\n",
    "'mean_bikes_MuseumsandGalleries',\n",
    "'mean_bikes_ReligiousBuildings',\n",
    "'mean_bikes_Restaurant',\n",
    "'mean_bikes_Retail',\n",
    "'venue_count_AlcoholManucturing',\n",
    "'venue_count_Bars',\n",
    "'venue_count_Cafes',\n",
    "'venue_count_MuseumsandGalleries',\n",
    "'venue_count_ReligiousBuildings',\n",
    "'venue_count_Restaurant',\n",
    "'venue_count_Retail']"
   ]
  },
  {
   "cell_type": "code",
   "execution_count": null,
   "metadata": {},
   "outputs": [],
   "source": [
    "bike_cols = ['mean_bikes_Alcohol_Manucturing', 'mean_bikes_Bars', 'mean_bikes_Cafes',\n",
    "       'mean_bikes_MuseumsandGalleries', 'mean_bikes_ReligiousBuildings',\n",
    "       'mean_bikes_Restaurant', 'mean_bikes_Retail']"
   ]
  },
  {
   "cell_type": "code",
   "execution_count": null,
   "metadata": {},
   "outputs": [],
   "source": [
    "berlin_pivot['mean_bikes'] = berlin_pivot[bike_cols].mean(axis=1)"
   ]
  },
  {
   "cell_type": "code",
   "execution_count": null,
   "metadata": {},
   "outputs": [],
   "source": [
    "berlin_pivot = berlin_pivot.drop(columns=['mean_bikes_Alcohol_Manucturing', 'mean_bikes_Bars', 'mean_bikes_Cafes',\n",
    "       'mean_bikes_MuseumsandGalleries', 'mean_bikes_ReligiousBuildings',\n",
    "       'mean_bikes_Restaurant', 'mean_bikes_Retail'])"
   ]
  },
  {
   "cell_type": "code",
   "execution_count": null,
   "metadata": {},
   "outputs": [],
   "source": [
    "berlin_pivot = berlin_pivot.fillna(value=0)"
   ]
  },
  {
   "cell_type": "code",
   "execution_count": null,
   "metadata": {},
   "outputs": [],
   "source": [
    "X = pd.DataFrame(berlin_pivot, columns = ['venue_count_AlcoholManucturing', 'venue_count_Bars',\n",
    "       'venue_count_Cafes', 'venue_count_MuseumsandGalleries',\n",
    "       'venue_count_ReligiousBuildings', 'venue_count_Restaurant',\n",
    "       'venue_count_Retail'])"
   ]
  },
  {
   "cell_type": "code",
   "execution_count": null,
   "metadata": {},
   "outputs": [],
   "source": [
    "X"
   ]
  },
  {
   "cell_type": "code",
   "execution_count": null,
   "metadata": {},
   "outputs": [],
   "source": [
    "y = pd.DataFrame(berlin_pivot, columns = ['mean_bikes'])\n",
    "y"
   ]
  },
  {
   "cell_type": "code",
   "execution_count": null,
   "metadata": {},
   "outputs": [],
   "source": [
    "X = sm.add_constant(X)\n",
    "lin_reg = sm.OLS(y,X['venue_count_Restaurant'])"
   ]
  },
  {
   "cell_type": "markdown",
   "metadata": {},
   "source": [
    "Provide model output and an interpretation of the results. "
   ]
  },
  {
   "cell_type": "code",
   "execution_count": null,
   "metadata": {},
   "outputs": [],
   "source": [
    "model = lin_reg.fit()\n",
    "print_model = model.summary()\n",
    "print(print_model)\n"
   ]
  },
  {
   "cell_type": "markdown",
   "metadata": {},
   "source": [
    "There is (seemingly) a positive correlation between the number of bikes available at a station and the number of restaurants nearby."
   ]
  },
  {
   "cell_type": "markdown",
   "metadata": {},
   "source": [
    "# Stretch"
   ]
  },
  {
   "cell_type": "markdown",
   "metadata": {},
   "source": [
    "How can you turn the regression model into a classification model?"
   ]
  },
  {
   "cell_type": "code",
   "execution_count": null,
   "metadata": {},
   "outputs": [],
   "source": []
  }
 ],
 "metadata": {
  "kernelspec": {
   "display_name": "LHL-Env",
   "language": "python",
   "name": "lhl-env"
  },
  "language_info": {
   "codemirror_mode": {
    "name": "ipython",
    "version": 3
   },
   "file_extension": ".py",
   "mimetype": "text/x-python",
   "name": "python",
   "nbconvert_exporter": "python",
   "pygments_lexer": "ipython3",
   "version": "3.13.5"
  }
 },
 "nbformat": 4,
 "nbformat_minor": 4
}
